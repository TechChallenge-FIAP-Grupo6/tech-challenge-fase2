{
  "cells": [
    {
      "cell_type": "markdown",
      "id": "a0f631b7",
      "metadata": {
        "id": "a0f631b7"
      },
      "source": [
        "\n",
        "#  Tech Challenge – Fase 2 (Projeto 2)\n",
        "## **VRP com Algoritmo Genético + Mapas + LLM (Colab-ready)**\n",
        "\n",
        "Este notebook resolve um **problema de rotas médicas** (VRP) usando **Algoritmo Genético (AG)**, desenha as rotas no **mapa** e cria um **gancho para LLM** gerar instruções/relatórios.\n",
        "\n",
        "**O que você vai ver:**\n",
        "1. Setup (instalação de libs);\n",
        "2. Dados de exemplo (depósito + clientes);\n",
        "3. TSP com AG (rota única) – base;\n",
        "4. VRP com penalidades (capacidade, autonomia, prioridade, múltiplos veículos);\n",
        "5. Visualização em mapa (folium);\n",
        "6. Baseline (vizinho mais próximo) para comparar;\n",
        "7. Experimentos A/B/C do AG;\n",
        "8. Placeholder de LLM (onde plugar a API);\n",
        "9. Export de resultados (CSV/PNG).\n",
        "\n",
        "> **Lembrete**: Isso é **apoio à decisão**. Não é diagnóstico e não substitui ninguém.\n"
      ]
    },
    {
      "cell_type": "code",
      "execution_count": null,
      "id": "1b2f6d16",
      "metadata": {
        "id": "1b2f6d16"
      },
      "outputs": [],
      "source": [
        "\n",
        "try:\n",
        "    import folium\n",
        "except:\n",
        "    !pip -q install folium\n",
        "\n",
        "import math, random, os, json\n",
        "import numpy as np\n",
        "import matplotlib.pyplot as plt\n",
        "\n",
        "random.seed(42)\n",
        "np.random.seed(42)\n"
      ]
    },
    {
      "cell_type": "markdown",
      "id": "13b5a20a",
      "metadata": {
        "id": "13b5a20a"
      },
      "source": [
        "\n",
        "### 1 - O que são os dados?\n",
        "- **Depósito (Hospital)**: ponto de partida e chegada.\n",
        "- **Clientes**: lugares onde vamos entregar remédios/insumos.\n",
        "- Cada cliente tem:\n",
        "  - **demanda** (quanto pesa);\n",
        "  - **prioridade** (0 = normal, 1 = crítica).\n",
        "- Temos **vários veículos**, cada um com **capacidade** e **autonomia**.\n"
      ]
    },
    {
      "cell_type": "code",
      "execution_count": null,
      "id": "9674d5ad",
      "metadata": {
        "colab": {
          "base_uri": "https://localhost:8080/"
        },
        "id": "9674d5ad",
        "outputId": "fc4dc722-8d4c-4ec1-e1ab-9bc95cd0777b"
      },
      "outputs": [
        {
          "output_type": "stream",
          "name": "stdout",
          "text": [
            "Clientes: 20 | Veículos: 3 | Capacidade: 18 | Autonomia: 30.0 km\n"
          ]
        }
      ],
      "source": [
        "\n",
        "def jitter_points(base_lat, base_lon, meters_lat=8000, meters_lon=8000, n=20):\n",
        "    pts = []\n",
        "    for _ in range(n):\n",
        "        dlat = (np.random.rand()-0.5)*meters_lat/111111  # metro -> grau aprox\n",
        "        dlon = (np.random.rand()-0.5)*meters_lon/(111111*math.cos(math.radians(base_lat)))\n",
        "        pts.append((base_lat + dlat, base_lon + dlon))\n",
        "    return pts\n",
        "\n",
        "# Depósito (ex.: São Paulo - Sé)\n",
        "depot = (-23.5505, -46.6333)\n",
        "\n",
        "# Gera 20 clientes ao redor\n",
        "customers = jitter_points(depot[0], depot[1], n=20)\n",
        "\n",
        "# Demandas (peso) e prioridade (0=normal, 1=crítica)\n",
        "demands = np.random.randint(1, 5, size=len(customers))   # 1..4\n",
        "priority = np.random.choice([0,1], size=len(customers), p=[0.7,0.3])\n",
        "\n",
        "# Frota/Restrições\n",
        "NUM_VEHICLES   = 3\n",
        "VEHICLE_CAP    = 18   # capacidade máxima por veículo (soma das demandas)\n",
        "VEHICLE_RANGE  = 30.0 # autonomia máxima por rota (km)\n",
        "\n",
        "# Distância Haversine (km)\n",
        "from math import radians, sin, cos, asin, sqrt\n",
        "def haversine_km(a, b):\n",
        "    lat1, lon1 = a; lat2, lon2 = b\n",
        "    dlat = radians(lat2-lat1); dlon = radians(lon2-lon1)\n",
        "    R = 6371\n",
        "    h = sin(dlat/2)**2 + cos(radians(lat1))*cos(radians(lat2))*sin(dlon/2)**2\n",
        "    return 2*R*asin(sqrt(h))\n",
        "\n",
        "# Matriz de distância entre todos os pontos (0 = depot, 1..n = clientes)\n",
        "points = [depot] + customers\n",
        "N = len(points)\n",
        "D = np.zeros((N, N))\n",
        "for i in range(N):\n",
        "    for j in range(N):\n",
        "        D[i, j] = 0 if i==j else haversine_km(points[i], points[j])\n",
        "\n",
        "print(f\"Clientes: {len(customers)} | Veículos: {NUM_VEHICLES} | Capacidade: {VEHICLE_CAP} | Autonomia: {VEHICLE_RANGE} km\")\n"
      ]
    },
    {
      "cell_type": "markdown",
      "id": "a790496f",
      "metadata": {
        "id": "a790496f"
      },
      "source": [
        "\n",
        "## 2 - TSP com Algoritmo Genético (base)\n",
        "\n",
        "O **Algoritmo genético** faz:\n",
        "- **seleção**: escolhe as melhores rotas (as mais curtas);\n",
        "- **crossover**: mistura rotas de dois pais;\n",
        "- **mutação**: troca dois individuos de lugar às vezes;\n",
        "- **elitismo**: guarda os melhores.\n",
        "\n",
        "**Fitness**: distância total (menor = melhor).\n"
      ]
    },
    {
      "cell_type": "code",
      "execution_count": null,
      "id": "8f5d7f17",
      "metadata": {
        "colab": {
          "base_uri": "https://localhost:8080/",
          "height": 489
        },
        "id": "8f5d7f17",
        "outputId": "74d2af63-3332-4ac1-b937-59fc38cd3e3c"
      },
      "outputs": [
        {
          "output_type": "stream",
          "name": "stdout",
          "text": [
            "Best TSP distance (km): 40.64\n"
          ]
        },
        {
          "output_type": "display_data",
          "data": {
            "text/plain": [
              "<Figure size 640x480 with 1 Axes>"
            ],
            "image/png": "[encoded data removed]"
          },
          "metadata": {}
        }
      ],
      "source": [
        "\n",
        "# TSP com AG\n",
        "\n",
        "NUM_CUSTOMERS = len(customers)\n",
        "POP           = 60\n",
        "GENERATIONS   = 200\n",
        "MUTATION_P    = 0.15\n",
        "TOURNEY_K     = 3\n",
        "ELITE         = 6\n",
        "\n",
        "def route_length(order):\n",
        "    total = D[0, order[0]]\n",
        "    for i in range(len(order)-1):\n",
        "        total += D[order[i], order[i+1]]\n",
        "    total += D[order[-1], 0]\n",
        "    return total\n",
        "\n",
        "def init_pop():\n",
        "    base = list(range(1, NUM_CUSTOMERS+1))\n",
        "    pop = []\n",
        "    for _ in range(POP):\n",
        "        random.shuffle(base)\n",
        "        pop.append(base.copy())\n",
        "    return pop\n",
        "\n",
        "def tournament(pop, fitnesses, k=TOURNEY_K):\n",
        "    cand = random.sample(range(len(pop)), k)\n",
        "    best = min(cand, key=lambda i: fitnesses[i])\n",
        "    return pop[best]\n",
        "\n",
        "def ordered_crossover(p1, p2):\n",
        "    a, b = sorted(random.sample(range(len(p1)), 2))\n",
        "    child = [None]*len(p1)\n",
        "    child[a:b+1] = p1[a:b+1]\n",
        "    fill = [g for g in p2 if g not in child]\n",
        "    j=0\n",
        "    for i in range(len(child)):\n",
        "        if child[i] is None:\n",
        "            child[i] = fill[j]; j+=1\n",
        "    return child\n",
        "\n",
        "def mutate_swap(ind, p=MUTATION_P):\n",
        "    if random.random() < p:\n",
        "        i, j = random.sample(range(len(ind)), 2)\n",
        "        ind[i], ind[j] = ind[j], ind[i]\n",
        "\n",
        "def evolve_tsp():\n",
        "    pop = init_pop()\n",
        "    best = None; best_f = float('inf')\n",
        "    history = []\n",
        "    for g in range(GENERATIONS):\n",
        "        fitnesses = [route_length(ind) for ind in pop]\n",
        "        gen_best_i = min(range(len(pop)), key=lambda i: fitnesses[i])\n",
        "        if fitnesses[gen_best_i] < best_f:\n",
        "            best_f = fitnesses[gen_best_i]; best = pop[gen_best_i][:]\n",
        "        history.append(best_f)\n",
        "\n",
        "        elite_idx = sorted(range(len(pop)), key=lambda i: fitnesses[i])[:ELITE]\n",
        "        new_pop = [pop[i][:] for i in elite_idx]\n",
        "\n",
        "        while len(new_pop) < POP:\n",
        "            p1 = tournament(pop, fitnesses)\n",
        "            p2 = tournament(pop, fitnesses)\n",
        "            child = ordered_crossover(p1, p2)\n",
        "            mutate_swap(child)\n",
        "            new_pop.append(child)\n",
        "        pop = new_pop\n",
        "    return best, best_f, history\n",
        "\n",
        "best_tsp, best_tsp_dist, curve_tsp = evolve_tsp()\n",
        "print(\"Best TSP distance (km):\", round(best_tsp_dist, 2))\n",
        "\n",
        "# Curva de evolução\n",
        "plt.figure()\n",
        "plt.plot(curve_tsp)\n",
        "plt.title(\"Evolução do TSP (melhor distância por geração)\")\n",
        "plt.xlabel(\"Geração\")\n",
        "plt.ylabel(\"Distância (km)\")\n",
        "plt.grid(True)\n",
        "plt.show()\n"
      ]
    },
    {
      "cell_type": "markdown",
      "id": "5f1a941c",
      "metadata": {
        "id": "5f1a941c"
      },
      "source": [
        "\n",
        "## 3 - VRP (múltiplos veículos) com **penalidades**  \n",
        "A função **split** faz cortes respeitando:\n",
        "- **capacidade** do veículo;\n",
        "- **autonomia** da rota;\n",
        "- **prioridade**: urgentes mais cedo = melhor (menos penalidade);\n",
        "- **número máximo de veículos**.\n",
        "\n",
        "Se **quebrar regra**, ganha (penalidade) e o **fitness** fica pior.\n"
      ]
    },
    {
      "cell_type": "code",
      "execution_count": null,
      "id": "f3df2ed0",
      "metadata": {
        "colab": {
          "base_uri": "https://localhost:8080/",
          "height": 489
        },
        "id": "f3df2ed0",
        "outputId": "5d3a4c9c-3e1e-4c04-96e1-9f01adf7487d"
      },
      "outputs": [
        {
          "output_type": "stream",
          "name": "stdout",
          "text": [
            "Melhor custo VRP (km + penalidades): 73.01\n"
          ]
        },
        {
          "output_type": "display_data",
          "data": {
            "text/plain": [
              "<Figure size 640x480 with 1 Axes>"
            ],
            "image/png": "[encoded data removed]"
          },
          "metadata": {}
        }
      ],
      "source": [
        "\n",
        "# VRP com penalidades\n",
        "\n",
        "def split_into_routes(order):\n",
        "    routes = []\n",
        "    cur = []\n",
        "    cur_demand = 0\n",
        "    cur_dist = 0.0\n",
        "    last = 0  # começamos no depósito (índice 0 na matriz D)\n",
        "\n",
        "    for c in order:\n",
        "        d = demands[c-1]\n",
        "        # custo extra se incluir este cliente na rota atual\n",
        "        extra_dist = D[last, c] + D[c, 0] - D[last, 0]\n",
        "        if (cur_demand + d <= VEHICLE_CAP) and (cur_dist + extra_dist <= VEHICLE_RANGE):\n",
        "            cur.append(c)\n",
        "            cur_demand += d\n",
        "            cur_dist += D[last, c]\n",
        "            last = c\n",
        "        else:\n",
        "            # fecha a rota atual\n",
        "            cur_dist += D[last, 0]\n",
        "            routes.append((cur[:], cur_demand, cur_dist))\n",
        "            # inicia nova\n",
        "            cur = [c]; cur_demand = d\n",
        "            last = c\n",
        "            cur_dist = D[0, c]\n",
        "    # fecha a última rota\n",
        "    if cur:\n",
        "        cur_dist += D[last, 0]\n",
        "    routes.append((cur[:], cur_demand, cur_dist))\n",
        "    return routes  # lista de (clientes, demanda_total, dist_total)\n",
        "\n",
        "def vrp_fitness(order):\n",
        "    routes = split_into_routes(order)\n",
        "    penalty = 0.0\n",
        "    # penaliza excesso de veículos\n",
        "    if len(routes) > NUM_VEHICLES:\n",
        "        penalty += 1000.0 * (len(routes) - NUM_VEHICLES)\n",
        "    total_dist = 0.0\n",
        "    for idx, (r, dem, dist) in enumerate(routes):\n",
        "        total_dist += dist\n",
        "        if dem > VEHICLE_CAP:\n",
        "            penalty += 500.0 * (dem - VEHICLE_CAP)\n",
        "        if dist > VEHICLE_RANGE:\n",
        "            penalty += 500.0 * (dist - VEHICLE_RANGE)\n",
        "        # prioridade: quanto mais tarde o urgente aparece, mais penaliza\n",
        "        for pos, c in enumerate(r):\n",
        "            if priority[c-1] == 1:\n",
        "                penalty += 2.0 * pos\n",
        "    return total_dist + penalty\n",
        "\n",
        "def evolve_vrp(pop_size=60, generations=200, mut_p=0.15, tournament_k=3, elite=6):\n",
        "    global POP, GENERATIONS, MUTATION_P, TOURNEY_K, ELITE\n",
        "    POP, GENERATIONS, MUTATION_P, TOURNEY_K, ELITE = pop_size, generations, mut_p, tournament_k, elite\n",
        "\n",
        "    pop = init_pop()\n",
        "    best = None; best_f = float('inf')\n",
        "    history = []\n",
        "    for g in range(GENERATIONS):\n",
        "        fitnesses = [vrp_fitness(ind) for ind in pop]\n",
        "        gen_best_i = min(range(len(pop)), key=lambda i: fitnesses[i])\n",
        "        if fitnesses[gen_best_i] < best_f:\n",
        "            best_f = fitnesses[gen_best_i]; best = pop[gen_best_i][:]\n",
        "        history.append(best_f)\n",
        "\n",
        "        elite_idx = sorted(range(len(pop)), key=lambda i: fitnesses[i])[:ELITE]\n",
        "        new_pop = [pop[i][:] for i in elite_idx]\n",
        "        while len(new_pop) < POP:\n",
        "            p1 = tournament(pop, fitnesses)\n",
        "            p2 = tournament(pop, fitnesses)\n",
        "            child = ordered_crossover(p1, p2)\n",
        "            mutate_swap(child)\n",
        "            new_pop.append(child)\n",
        "        pop = new_pop\n",
        "    return best, best_f, history\n",
        "\n",
        "best_vrp, best_vrp_cost, curve_vrp = evolve_vrp()\n",
        "print(\"Melhor custo VRP (km + penalidades):\", round(best_vrp_cost, 2))\n",
        "\n",
        "plt.figure()\n",
        "plt.plot(curve_vrp)\n",
        "plt.title(\"Evolução do VRP (melhor custo por geração)\")\n",
        "plt.xlabel(\"Geração\")\n",
        "plt.ylabel(\"Custo (km + penalidades)\")\n",
        "plt.grid(True)\n",
        "plt.show()\n"
      ]
    },
    {
      "cell_type": "code",
      "source": [
        "\n",
        "import matplotlib.pyplot as plt\n",
        "from matplotlib.animation import FuncAnimation\n",
        "from IPython.display import HTML\n",
        "\n",
        "def evolve_vrp_with_history(pop_size=60, generations=120, mut_p=0.15, tournament_k=3, elite=6):\n",
        "    \"\"\"\n",
        "    Igual ao evolve_vrp, mas guarda:\n",
        "      - best_cost_history: melhor custo por geração\n",
        "      - best_route_history: melhor cromossomo (ordem dos clientes) por geração\n",
        "    \"\"\"\n",
        "    # usamos as mesmas funções auxiliares já definidas no notebook\n",
        "    pop = init_pop()\n",
        "    best = None; best_f = float('inf')\n",
        "\n",
        "    best_cost_history = []\n",
        "    best_route_history = []\n",
        "\n",
        "    for g in range(generations):\n",
        "        fitnesses = [vrp_fitness(ind) for ind in pop]\n",
        "        gen_best_i = min(range(len(pop)), key=lambda i: fitnesses[i])\n",
        "        gen_best_cost = fitnesses[gen_best_i]\n",
        "        gen_best_route = pop[gen_best_i][:]\n",
        "\n",
        "        # atualiza melhor global\n",
        "        if gen_best_cost < best_f:\n",
        "            best_f = gen_best_cost\n",
        "            best = gen_best_route[:]\n",
        "\n",
        "        # guarda históricos (melhor global até esta geração)\n",
        "        best_cost_history.append(best_f)\n",
        "        best_route_history.append(best[:])\n",
        "\n",
        "        # elitismo + reprodução\n",
        "        elite_idx = sorted(range(len(pop)), key=lambda i: fitnesses[i])[:elite]\n",
        "        new_pop = [pop[i][:] for i in elite_idx]\n",
        "        while len(new_pop) < pop_size:\n",
        "            p1 = tournament(pop, fitnesses, k=tournament_k)\n",
        "            p2 = tournament(pop, fitnesses, k=tournament_k)\n",
        "            child = ordered_crossover(p1, p2)\n",
        "            mutate_swap(child, p=mut_p)\n",
        "            new_pop.append(child)\n",
        "        pop = new_pop\n",
        "\n",
        "    return best, best_f, best_cost_history, best_route_history\n",
        "\n",
        "# Rodar o algoritmo genético com histórico\n",
        "best_route_hist_conf = dict(pop_size=60, generations=120, mut_p=0.15, tournament_k=3, elite=6)\n",
        "best_final, best_final_cost, cost_hist, route_hist = evolve_vrp_with_history(**best_route_hist_conf)\n",
        "print(f\"Melhor custo final: {best_final_cost:.2f}\")\n",
        "\n",
        "# Funções auxiliares de desenho\n",
        "def _order_to_coords(order):\n",
        "    \"\"\"Converte ordem de clientes em coordenadas (lat, lon), incluindo ida/volta ao depósito.\"\"\"\n",
        "    coords = [points[0]] + [points[c] for c in order] + [points[0]]\n",
        "    return coords\n",
        "\n",
        "def draw_route(order, ax, title_extra=\"\"):\n",
        "    \"\"\"Desenha uma rota única (TSP) no plano. Útil como base visual.\"\"\"\n",
        "    ax.clear()\n",
        "    coords = _order_to_coords(order)\n",
        "    xs = [lon for (lat, lon) in coords]\n",
        "    ys = [lat for (lat, lon) in coords]\n",
        "    ax.plot(xs, ys, marker='o', linewidth=1)\n",
        "    # destaca depósito\n",
        "    ax.plot(points[0][1], points[0][0], marker='s', markersize=8)\n",
        "    ax.set_title(f\"Evolução do GA {title_extra}\")\n",
        "    ax.set_xlabel(\"Longitude\")\n",
        "    ax.set_ylabel(\"Latitude\")\n",
        "    ax.grid(True)\n",
        "\n",
        "def draw_routes_vrp(order, ax, title_extra=\"\"):\n",
        "    \"\"\"\n",
        "    Desenha as SUB-ROTAS (VRP) cortando a ordem grande em rotas de veículos.\n",
        "    Cada sub-rota recebe uma cor diferente.\n",
        "    \"\"\"\n",
        "    ax.clear()\n",
        "    routes = split_into_routes(order)\n",
        "    colors = [\"tab:blue\",\"tab:orange\",\"tab:green\",\"tab:red\",\"tab:purple\",\"tab:brown\",\"tab:pink\",\"tab:gray\",\"tab:olive\",\"tab:cyan\"]\n",
        "\n",
        "    # pontos dos clientes\n",
        "    xs_all = [p[1] for p in points]\n",
        "    ys_all = [p[0] for p in points]\n",
        "    ax.scatter(xs_all[1:], ys_all[1:], s=15, alpha=0.7)  # clientes\n",
        "    ax.scatter(xs_all[0], ys_all[0], s=60, marker='s', label=\"Depósito\")\n",
        "\n",
        "    # desenha cada sub-rota\n",
        "    for i, (r, dem, dist) in enumerate(routes):\n",
        "        col = colors[i % len(colors)]\n",
        "        coords = [points[0]] + [points[c] for c in r] + [points[0]]\n",
        "        xs = [lon for (lat, lon) in coords]\n",
        "        ys = [lat for (lat, lon) in coords]\n",
        "        ax.plot(xs, ys, '-o', linewidth=1, label=f\"Veículo {i+1} | dist={dist:.1f}km | carga={dem}\", color=col)\n",
        "\n",
        "    ax.set_title(f\"VRP – evolução do GA {title_extra}\")\n",
        "    ax.set_xlabel(\"Longitude\")\n",
        "    ax.set_ylabel(\"Latitude\")\n",
        "    ax.legend(loc=\"upper right\", fontsize=8)\n",
        "    ax.grid(True)\n",
        "\n",
        "#CRIAR A ANIMAÇÃO\n",
        "fig, ax = plt.subplots(figsize=(6, 5))\n",
        "\n",
        "def update(frame):\n",
        "    # frame é o índice da geração\n",
        "    order = route_hist[frame]\n",
        "    # desenha como VRP (sub-rotas coloridas)\n",
        "    draw_routes_vrp(order, ax, title_extra=f\"(Geração {frame+1}/{len(route_hist)})\")\n",
        "    return ax,\n",
        "\n",
        "anim = FuncAnimation(fig, update, frames=len(route_hist), interval=120, blit=False, repeat=False)\n",
        "\n",
        "#Mostrar no notebook (HTML5 vídeo)\n",
        "HTML(anim.to_jshtml())\n",
        "\n",
        "# Salvar como GIF para usar no relatório/vídeo\n",
        "\n",
        "try:\n",
        "    anim.save(\"reports/evolucao_vrp_anim.gif\", writer=\"pillow\", fps=12)\n",
        "    print(\"GIF salvo em reports/evolucao_vrp_anim.gif\")\n",
        "except Exception as e:\n",
        "    print(\"Não consegui salvar o GIF agora:\", e)\n"
      ],
      "metadata": {
        "colab": {
          "base_uri": "https://localhost:8080/"
        },
        "id": "GpxuqueDKaUg",
        "outputId": "58b9bda9-a939-4448-baad-5f16ed2d68be"
      },
      "id": "GpxuqueDKaUg",
      "execution_count": null,
      "outputs": [
        {
          "output_type": "stream",
          "name": "stdout",
          "text": [
            "Melhor custo final: 70.22\n"
          ]
        }
      ]
    },
    {
      "cell_type": "code",
      "source": [
        "# Função para gerar resumo textual\n",
        "def summary_generation(order, gen):\n",
        "    \"\"\"\n",
        "    Lê uma ordem de clientes (cromossomo) e gera resumo textual/tabelado.\n",
        "    \"\"\"\n",
        "    routes = split_into_routes(order)\n",
        "    print(f\"\\n Geração {gen}\")\n",
        "    for i, (r, dem, dist) in enumerate(routes):\n",
        "        rotas_str = \" -> \".join([f\"C{c}{'(CRIT)' if priority[c-1]==1 else ''}\" for c in r])\n",
        "        print(f\" Veículo {i+1}: {rotas_str} | Distância = {dist:.2f} km | Carga = {dem}\")\n",
        "\n",
        "# Exemplo: ler as 5 primeiras gerações\n",
        "for g in range(5):\n",
        "    summary_generation(route_hist[g], g+1)\n"
      ],
      "metadata": {
        "id": "uob7PPdS2-Yq"
      },
      "id": "uob7PPdS2-Yq",
      "execution_count": null,
      "outputs": []
    },
    {
      "cell_type": "markdown",
      "id": "4d25d5f3",
      "metadata": {
        "id": "4d25d5f3"
      },
      "source": [
        "\n",
        "## 4 - Mapa das rotas (folium)\n",
        "Cada cor = um veículo.  \n",
        "Tooltip mostra: **distância** e **carga** da sub-rota.\n"
      ]
    },
    {
      "cell_type": "code",
      "execution_count": null,
      "id": "f1c936cd",
      "metadata": {
        "id": "f1c936cd"
      },
      "outputs": [],
      "source": [
        "\n",
        "import folium\n",
        "\n",
        "def plot_routes(order):\n",
        "    routes = split_into_routes(order)\n",
        "    m = folium.Map(location=depot, zoom_start=12)\n",
        "    folium.Marker(depot, tooltip=\"Depósito (Hospital)\", icon=folium.Icon(color=\"red\")).add_to(m)\n",
        "\n",
        "    colors = [\"blue\",\"green\",\"purple\",\"orange\",\"darkred\",\"darkblue\",\"darkgreen\"]\n",
        "    for i, (r, dem, dist) in enumerate(routes):\n",
        "        col = colors[i % len(colors)]\n",
        "        coords = [depot] + [customers[c-1] for c in r] + [depot]\n",
        "        folium.PolyLine(coords, tooltip=f\"Veículo {i+1} | dist={dist:.1f}km | carga={dem}\", color=col).add_to(m)\n",
        "        for c in r:\n",
        "            latlon = customers[c-1]\n",
        "            ptxt = \"CRÍTICA\" if priority[c-1]==1 else \"normal\"\n",
        "            folium.CircleMarker(latlon, radius=4, color=col, fill=True,\n",
        "                                tooltip=f\"Cliente {c} | {ptxt} | demanda={demands[c-1]}\").add_to(m)\n",
        "    return m\n",
        "\n",
        "m = plot_routes(best_vrp)\n",
        "m\n"
      ]
    },
    {
      "cell_type": "markdown",
      "id": "fa35f7d1",
      "metadata": {
        "id": "fa35f7d1"
      },
      "source": [
        "\n",
        "## 5 - Baseline: vizinho mais próximo (Nearest Neighbor)\n",
        "Cria uma rota simples e depois **corta** em sub-rotas.\n",
        "Serve para comparar se o **AG** realmente melhora.\n"
      ]
    },
    {
      "cell_type": "code",
      "execution_count": null,
      "id": "c9fde27f",
      "metadata": {
        "id": "c9fde27f"
      },
      "outputs": [],
      "source": [
        "\n",
        "def nearest_neighbor_route():\n",
        "    remaining = set(range(1, NUM_CUSTOMERS+1))\n",
        "    cur = 0  # depot\n",
        "    order = []\n",
        "    while remaining:\n",
        "        nxt = min(remaining, key=lambda j: D[cur, j])\n",
        "        order.append(nxt)\n",
        "        remaining.remove(nxt)\n",
        "        cur = nxt\n",
        "    return order\n",
        "\n",
        "nn_order = nearest_neighbor_route()\n",
        "nn_cost = vrp_fitness(nn_order)\n",
        "print(\"Custo baseline NN (km + penalidades):\", round(nn_cost, 2))\n",
        "\n",
        "# Comparação simples\n",
        "print(\"AG vs NN -> Melhor é menor: \", round(best_vrp_cost,2), \"vs\", round(nn_cost,2))\n"
      ]
    },
    {
      "cell_type": "markdown",
      "id": "efed550a",
      "metadata": {
        "id": "efed550a"
      },
      "source": [
        "\n",
        "## 6 - Experimentos A/B/C (como pede o enunciado)\n",
        "Mudamos **tamanho da população**, **gerações**, **taxa de mutação** e **seleção** (torneio k).\n"
      ]
    },
    {
      "cell_type": "code",
      "execution_count": null,
      "id": "e9f010ec",
      "metadata": {
        "id": "e9f010ec"
      },
      "outputs": [],
      "source": [
        "\n",
        "exps = {\n",
        "    \"A_rápido\":   dict(pop_size=40, generations=120, mut_p=0.10, tournament_k=2, elite=4),\n",
        "    \"B_equilíbrio\": dict(pop_size=60, generations=200, mut_p=0.15, tournament_k=3, elite=6),\n",
        "    \"C_exploratório\": dict(pop_size=80, generations=250, mut_p=0.20, tournament_k=3, elite=8),\n",
        "}\n",
        "\n",
        "results = []\n",
        "for name, cfg in exps.items():\n",
        "    best_o, best_c, hist = evolve_vrp(**cfg)\n",
        "    results.append((name, cfg, best_c))\n",
        "    print(name, \"-> custo:\", round(best_c,2))\n",
        "\n",
        "# Tabela simples\n",
        "import pandas as pd\n",
        "df = pd.DataFrame([{\n",
        "    \"Experimento\": name,\n",
        "    \"População\": cfg[\"pop_size\"],\n",
        "    \"Gerações\": cfg[\"generations\"],\n",
        "    \"Mutação\": cfg[\"mut_p\"],\n",
        "    \"Torneio_k\": cfg[\"tournament_k\"],\n",
        "    \"Elite\": cfg[\"elite\"],\n",
        "    \"Custo (km+penal.)\": round(cost, 2)\n",
        "} for name, cfg, cost in results])\n",
        "\n",
        "df\n"
      ]
    },
    {
      "cell_type": "markdown",
      "id": "efd9d30c",
      "metadata": {
        "id": "efd9d30c"
      },
      "source": [
        "\n",
        "## 7 - Exportar resultados (CSV/PNG)\n",
        "\n"
      ]
    },
    {
      "cell_type": "code",
      "execution_count": null,
      "id": "cef0bdc7",
      "metadata": {
        "id": "cef0bdc7"
      },
      "outputs": [],
      "source": [
        "\n",
        "os.makedirs(\"reports\", exist_ok=True)\n",
        "\n",
        "# Salva CSV de resultados\n",
        "df.to_csv(\"reports/experimentos_vrp.csv\", index=False)\n",
        "\n",
        "# Salva curva VRP principal\n",
        "plt.figure()\n",
        "plt.plot(curve_vrp)\n",
        "plt.title(\"Evolução do VRP (melhor custo por geração)\")\n",
        "plt.xlabel(\"Geração\")\n",
        "plt.ylabel(\"Custo (km + penalidades)\")\n",
        "plt.grid(True)\n",
        "plt.savefig(\"reports/evolucao_vrp.png\", dpi=150)\n",
        "plt.close()\n",
        "\n",
        "# Salvar o mapa folium como HTML\n",
        "m.save(\"reports/rotas_mapa.html\")\n",
        "\n",
        "print(\"Arquivos salvos em /reports:\")\n",
        "for f in os.listdir(\"reports\"):\n",
        "    print(\"-\", f)\n"
      ]
    },
    {
      "cell_type": "markdown",
      "id": "899c5610",
      "metadata": {
        "id": "899c5610"
      },
      "source": [
        "\n",
        "## 8 - Integração com LLM (placeholder)\n"
      ]
    },
    {
      "cell_type": "code",
      "execution_count": null,
      "id": "ff2f420c",
      "metadata": {
        "id": "ff2f420c"
      },
      "outputs": [],
      "source": [
        "\n",
        "def build_routes_summary(order, depot_ids=(0,)):\n",
        "    \"\"\"\n",
        "    Constrói o payload para a LLM a partir de 'order' (solução do VRP).\n",
        "    - Ignora depósitos informados em depot_ids (ex.: 0 ou 1).\n",
        "    - Garante que 'priority' tenha tamanho suficiente para cobrir o maior ID de parada.\n",
        "    \"\"\"\n",
        "    routes = split_into_routes(order)  # esperado: [(r, dem, dist), ...]\n",
        "\n",
        "    #Coletar todas as paradas de clientes (exclui depósitos)\n",
        "    all_stops = []\n",
        "    for r, _, _ in routes:\n",
        "        for c in r:\n",
        "            if c in depot_ids:\n",
        "                continue\n",
        "            all_stops.append(int(c))\n",
        "\n",
        "    if not all_stops:\n",
        "        raise ValueError(\"Nenhuma parada de cliente encontrada nas rotas\")\n",
        "\n",
        "    #Garantir que 'priority' cubra o maior ID de parada\n",
        "    max_stop = max(all_stops)\n",
        "    if len(priority) < max_stop:\n",
        "        # auto-completa com zeros até o maior ID\n",
        "        padding = [0] * (max_stop - len(priority))\n",
        "        priority.extend(padding)\n",
        "        print(f\"[INFO] 'priority' estendido para {len(priority)} posições para cobrir até a parada {max_stop}.\")\n",
        "\n",
        "    # Montar payload\n",
        "    payload = {\"vehicles\": []}\n",
        "    for i, (r, dem, dist) in enumerate(routes, start=1):\n",
        "        cleaned_stops = []\n",
        "        critical = []\n",
        "\n",
        "        for c in r:\n",
        "            c = int(c)\n",
        "            if c in depot_ids:\n",
        "                continue\n",
        "            if c <= 0:\n",
        "                continue\n",
        "            idx = c - 1\n",
        "\n",
        "            cleaned_stops.append(c)\n",
        "            if priority[idx] == 1:\n",
        "                critical.append(c)\n",
        "\n",
        "        payload[\"vehicles\"].append({\n",
        "            \"vehicle_id\": i,\n",
        "            \"stops\": cleaned_stops,\n",
        "            \"distance_km\": round(float(dist), 2),\n",
        "            \"load\": int(dem),\n",
        "            \"critical_stops\": critical\n",
        "        })\n",
        "\n",
        "    payload[\"constraints_ok\"] = True\n",
        "    for v in payload[\"vehicles\"]:\n",
        "        if v[\"load\"] > VEHICLE_CAP or v[\"distance_km\"] > VEHICLE_RANGE:\n",
        "            payload[\"constraints_ok\"] = False\n",
        "            break\n",
        "\n",
        "    return payload\n",
        "\n",
        "\n",
        "from openai import OpenAI\n",
        "client = #OPENAI_API_KEY=coloque_sua_chave_aqui\n",
        "prompt_text = f\"\"\"\n",
        "Contexto:\n",
        "Você é um assistente logístico de um hospital universitário.\n",
        "Seu trabalho é analisar rotas otimizadas de entrega de medicamentos e insumos,\n",
        "validando restrições de capacidade/autonomia e gerando instruções úteis.\" {json.dumps(summary_payload, ensure_ascii=False, indent=2)} 1. Gerar instruções claras e numeradas para cada motorista,\n",
        "   incluindo sequência de paradas, distância total e carga.\n",
        "2. Destacar as paradas CRÍTICAS (se houver).\n",
        "3. Se constraints_ok for False, explicar o que deu errado e sugerir ajustes.\n",
        "4. Criar também um relatório executivo resumido (5–10 linhas) para gestores,\n",
        "   com totais de veículos, distâncias, cargas e recomendações.\n",
        "Responda sempre em português.\"\"\"\n",
        "resp = client.chat.completions.create(\n",
        "    model=\"gpt-4o-mini\",\n",
        "    messages=[{\"role\": \"user\", \"content\": prompt_text}],\n",
        "    temperature=0.2\n",
        ")\n",
        "\n",
        "print(resp.choices[0].message.content)\n"
      ]
    },
    {
      "cell_type": "markdown",
      "id": "57e6fab3",
      "metadata": {
        "id": "57e6fab3"
      },
      "source": [
        "\n"
      ]
    }
  ],
  "metadata": {
    "colab": {
      "provenance": [],
      "toc_visible": true
    },
    "language_info": {
      "name": "python"
    },
    "kernelspec": {
      "name": "python3",
      "display_name": "Python 3"
    }
  },
  "nbformat": 4,
  "nbformat_minor": 5
}